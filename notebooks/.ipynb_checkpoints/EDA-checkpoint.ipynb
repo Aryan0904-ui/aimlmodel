{
 "cells": [
  {
   "cell_type": "code",
   "execution_count": null,
   "metadata": {},
   "outputs": [],
   "source": [
    "import pandas as pd\n",
    "from sklearn.model_selection import train_test_split\n",
    "from sklearn.impute import SimpleImputer\n",
    "from sklearn.preprocessing import OneHotEncoder\n",
    "from sklearn.compose import ColumnTransformer\n",
    "from sklearn.pipeline import Pipeline\n",
    "import joblib\n",
    "\n",
    "# Load dataset\n",
    "data = pd.read_csv(\"data/thyroid_cancer_risk_data.csv\")\n",
    "\n",
    "# Drop unnecessary column\n",
    "data = data.drop([\"Patient_ID\"], axis=1)\n",
    "\n",
    "# Convert target to binary\n",
    "data[\"Diagnosis\"] = data[\"Diagnosis\"].map({\"Benign\": 0, \"Malignant\": 1})\n",
    "\n",
    "# Split features and target\n",
    "X = data.drop([\"Diagnosis\", \"Thyroid_Cancer_Risk\"], axis=1)\n",
    "y = data[\"Diagnosis\"]\n",
    "\n",
    "# Define feature types\n",
    "numeric_features = [\"Age\", \"TSH_Level\", \"T3_Level\", \"T4_Level\", \"Nodule_Size\"]\n",
    "categorical_features = [\"Gender\", \"Country\", \"Ethnicity\", \"Family_History\", \n",
    "                        \"Radiation_Exposure\", \"Iodine_Deficiency\", \n",
    "                        \"Smoking\", \"Obesity\", \"Diabetes\"]\n",
    "\n",
    "# Preprocessing pipeline\n",
    "numeric_transformer = Pipeline(steps=[\n",
    "    (\"imputer\", SimpleImputer(strategy=\"mean\")),\n",
    "])\n",
    "\n",
    "categorical_transformer = Pipeline(steps=[\n",
    "    (\"imputer\", SimpleImputer(strategy=\"most_frequent\")),\n",
    "    (\"onehot\", OneHotEncoder(handle_unknown=\"ignore\")),\n",
    "])\n",
    "\n",
    "preprocessor = ColumnTransformer(\n",
    "    transformers=[\n",
    "        (\"num\", numeric_transformer, numeric_features),\n",
    "        (\"cat\", categorical_transformer, categorical_features),\n",
    "    ]\n",
    ")\n",
    "\n",
    "# Train-test split\n",
    "X_train, X_test, y_train, y_test = train_test_split(X, y, test_size=0.2, random_state=42)\n",
    "\n",
    "# ✅ Fit the preprocessor before saving\n",
    "preprocessor.fit(X_train)\n",
    "\n",
    "# ✅ Save the fitted preprocessor\n",
    "joblib.dump(preprocessor, \"models/preprocessor.pkl\")\n"
   ]
  }
 ],
 "metadata": {
  "kernelspec": {
   "display_name": "Python 3 (ipykernel)",
   "language": "python",
   "name": "python3"
  },
  "language_info": {
   "codemirror_mode": {
    "name": "ipython",
    "version": 3
   },
   "file_extension": ".py",
   "mimetype": "text/x-python",
   "name": "python",
   "nbconvert_exporter": "python",
   "pygments_lexer": "ipython3",
   "version": "3.12.4"
  }
 },
 "nbformat": 4,
 "nbformat_minor": 4
}
